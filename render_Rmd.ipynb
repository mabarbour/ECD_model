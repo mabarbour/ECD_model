{
 "cells": [
  {
   "cell_type": "code",
   "execution_count": 1,
   "metadata": {
    "collapsed": true
   },
   "outputs": [],
   "source": [
    "library(rmarkdown)"
   ]
  },
  {
   "cell_type": "code",
   "execution_count": 2,
   "metadata": {},
   "outputs": [
    {
     "name": "stderr",
     "output_type": "stream",
     "text": [
      "\n",
      "\n",
      "processing file: ECD_Supp_Mat.Rmd\n"
     ]
    },
    {
     "name": "stdout",
     "output_type": "stream",
     "text": [
      "  |...                                                              |   5%\n",
      "  ordinary text without R code\n",
      "\n",
      "  |.......                                                          |  11%\n",
      "label: setup (with options) \n",
      "List of 1\n",
      " $ include: logi FALSE\n",
      "\n",
      "  |..........                                                       |  16%\n",
      "  ordinary text without R code\n",
      "\n",
      "  |..............                                                   |  21%\n",
      "label: Simulations (with options) \n",
      "List of 3\n",
      " $ include : logi FALSE\n",
      " $ messages: logi TRUE\n",
      " $ cache   : logi TRUE\n",
      "\n"
     ]
    },
    {
     "name": "stderr",
     "output_type": "stream",
     "text": [
      "Warning message:\n",
      "\"Deprecated: please use `purrr::possibly()` instead\""
     ]
    },
    {
     "name": "stdout",
     "output_type": "stream",
     "text": [
      "  |.................                                                |  26%\n",
      "  ordinary text without R code\n",
      "\n",
      "  |.....................                                            |  32%\n",
      "label: Organize_Simulation_Data (with options) \n",
      "List of 2\n",
      " $ include: logi FALSE\n",
      " $ cache  : logi TRUE\n",
      "\n",
      "  |........................                                         |  37%\n",
      "  ordinary text without R code\n",
      "\n",
      "  |...........................                                      |  42%\n",
      "label: Tradeoff (with options) \n",
      "List of 2\n",
      " $ echo   : logi FALSE\n",
      " $ fig.cap: chr \"\\\\label{fig:Tradeoff}Tradeoff forms for consumer attack rates.\"\n",
      "\n",
      "  |...............................                                  |  47%\n",
      "  ordinary text without R code\n",
      "\n",
      "  |..................................                               |  53%\n",
      "label: MacArthur_Resources (with options) \n",
      "List of 2\n",
      " $ echo   : logi FALSE\n",
      " $ fig.cap: chr \"\\\\label{fig:MacArthur_Resources}Effect of character displacement on total attack rates (A) and resource densiti\"| __truncated__\n",
      "\n",
      "  |......................................                           |  58%\n",
      "  ordinary text without R code\n",
      "\n",
      "  |.........................................                        |  63%\n",
      "label: LS_Resources (with options) \n",
      "List of 2\n",
      " $ echo   : logi FALSE\n",
      " $ fig.cap: chr \"\\\\label{fig:LS_Resources}Effect of character displacement on effective attack rates (A) and resource densities \"| __truncated__\n",
      "\n",
      "  |............................................                     |  68%\n",
      "  ordinary text without R code\n",
      "\n",
      "  |................................................                 |  74%\n",
      "label: Stability (with options) \n",
      "List of 2\n",
      " $ echo   : logi FALSE\n",
      " $ fig.cap: chr \"\\\\label{fig:Stability}Effect of character displacement on local stability when consumers can (A) and cannot (B)\"| __truncated__\n",
      "\n",
      "  |...................................................              |  79%\n",
      "  ordinary text without R code\n",
      "\n",
      "  |.......................................................          |  84%\n",
      "label: McCann_Resources (with options) \n",
      "List of 2\n",
      " $ echo   : logi FALSE\n",
      " $ fig.cap: chr \"\\\\label{fig:McCann_Resources}Effect of character displacement on total attack rates (A) and resource densities \"| __truncated__\n",
      "\n",
      "  |..........................................................       |  89%\n",
      "  ordinary text without R code\n",
      "\n",
      "  |..............................................................   |  95%\n",
      "label: Stability_McCann (with options) \n",
      "List of 2\n",
      " $ echo   : logi FALSE\n",
      " $ fig.cap: chr \"\\\\label{fig:Stability_McCann}Effect of character displacement on local stability when consumers exhibit a more \"| __truncated__\n",
      "\n",
      "  |.................................................................| 100%\n",
      "  ordinary text without R code\n",
      "\n",
      "\n"
     ]
    },
    {
     "name": "stderr",
     "output_type": "stream",
     "text": [
      "output file: ECD_Supp_Mat.knit.md\n",
      "\n"
     ]
    },
    {
     "name": "stdout",
     "output_type": "stream",
     "text": [
      "/home/matt/anaconda3/bin/pandoc +RTS -K512m -RTS ECD_Supp_Mat.utf8.md --to latex --from markdown+autolink_bare_uris+ascii_identifiers+tex_math_single_backslash --output ECD_Supp_Mat.tex --template /home/matt/R/x86_64-pc-linux-gnu-library/3.4/rmarkdown/rmd/latex/default-1.17.0.2.tex --highlight-style tango --latex-engine pdflatex --natbib --include-in-header preamble-latex.tex --variable graphics=yes --variable 'geometry:margin=1in' --bibliography references_ECD_supp_mat.bib \n"
     ]
    },
    {
     "name": "stderr",
     "output_type": "stream",
     "text": [
      "\n",
      "Output created: ECD_Supp_Mat.pdf\n"
     ]
    }
   ],
   "source": [
    "render(\"ECD_Supp_Mat.Rmd\")"
   ]
  }
 ],
 "metadata": {
  "kernelspec": {
   "display_name": "R",
   "language": "R",
   "name": "ir"
  },
  "language_info": {
   "codemirror_mode": "r",
   "file_extension": ".r",
   "mimetype": "text/x-r-source",
   "name": "R",
   "pygments_lexer": "r",
   "version": "3.4.4"
  }
 },
 "nbformat": 4,
 "nbformat_minor": 2
}
